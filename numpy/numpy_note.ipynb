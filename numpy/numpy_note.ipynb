{
 "cells": [
  {
   "cell_type": "markdown",
   "id": "f825c771",
   "metadata": {},
   "source": [
    "# NumPy Array Creation Methods\n",
    "A collection of ways to create arrays in NumPy.\n"
   ]
  },
  {
   "cell_type": "code",
   "execution_count": null,
   "id": "3694052b",
   "metadata": {},
   "outputs": [],
   "source": [
    "# np.array()\n",
    "# Convert a list or tuple to a NumPy array\n",
    "\n",
    "import numpy as np\n",
    "\n",
    "arr = np.array([1, 2, 3])\n",
    "matrix = np.array([[1, 2], [3, 4]])\n",
    "print(arr)\n",
    "print(matrix)\n"
   ]
  },
  {
   "cell_type": "code",
   "execution_count": null,
   "id": "3dd732f8",
   "metadata": {},
   "outputs": [],
   "source": [
    "## np.zeros()\n",
    "# Array filled with zeros\n",
    "\n",
    "zeros_1d = np.zeros(5)\n",
    "zeros_2d = np.zeros((2, 3))\n",
    "print(\"1D Arr :\",zeros_1d)\n",
    "print(\"2D Arr :\\n\",zeros_2d)\n",
    "\n"
   ]
  },
  {
   "cell_type": "code",
   "execution_count": null,
   "id": "727ea2cd",
   "metadata": {},
   "outputs": [],
   "source": [
    "# np.ones()\n",
    "# Array filled with ones\n",
    "\n",
    "ones_1d = np.ones(4)\n",
    "ones_2d = np.ones((3, 2))\n",
    "print(\"1D Arr :\",ones_1d)\n",
    "print(\"2D Arr: \\n\",ones_2d)\n",
    "\n"
   ]
  },
  {
   "cell_type": "code",
   "execution_count": null,
   "id": "333c9756",
   "metadata": {},
   "outputs": [],
   "source": [
    "# np.full()\n",
    "# Array filled with a specific value\n",
    "\n",
    "filled = np.full((2, 3), 7)\n",
    "print(filled)\n",
    "\n",
    "\n"
   ]
  },
  {
   "cell_type": "code",
   "execution_count": null,
   "id": "e3d22af2",
   "metadata": {},
   "outputs": [],
   "source": [
    "# np.arange()\n",
    "# Evenly spaced values within a range\n",
    "\n",
    "arr = np.arange(0, 10, 2)\n",
    "print(arr)\n"
   ]
  },
  {
   "cell_type": "code",
   "execution_count": null,
   "id": "f3d5ddfd",
   "metadata": {},
   "outputs": [],
   "source": [
    "# np.linspace()\n",
    "# Evenly spaced values over a specific interval\n",
    "\n",
    "arr = np.linspace(0, 1, 5)\n",
    "print(arr)\n",
    "\n"
   ]
  },
  {
   "cell_type": "code",
   "execution_count": null,
   "id": "a1d57304",
   "metadata": {},
   "outputs": [],
   "source": [
    "# np.eye()\n",
    "# Identity matrix\n",
    "\n",
    "identity = np.eye(3)\n",
    "print(identity)\n",
    "\n"
   ]
  },
  {
   "cell_type": "code",
   "execution_count": null,
   "id": "caa3f975",
   "metadata": {},
   "outputs": [],
   "source": [
    "# np.random.rand()\n",
    "# Random floats in [0, 1)\n",
    "\n",
    "random_floats = np.random.rand(2, 3)\n",
    "print(random_floats)\n"
   ]
  },
  {
   "cell_type": "code",
   "execution_count": null,
   "id": "c6b68b9f",
   "metadata": {},
   "outputs": [],
   "source": [
    "# np.random.randint()\n",
    "# Random integers\n",
    "\n",
    "rand_ints = np.random.randint(1, 10, size=(2, 3))\n",
    "print(rand_ints)\n"
   ]
  },
  {
   "cell_type": "code",
   "execution_count": null,
   "id": "cc67e149",
   "metadata": {},
   "outputs": [],
   "source": [
    "# np.empty()\n",
    "# Uninitialized array (contains garbage values)\n",
    "\n",
    "empty_arr = np.empty((2, 3))\n",
    "print(empty_arr)\n"
   ]
  },
  {
   "cell_type": "code",
   "execution_count": null,
   "id": "a8a9f1f6",
   "metadata": {},
   "outputs": [],
   "source": [
    "# np.identity()\n",
    "# Identity matrix (same as eye)\n",
    "\n",
    "I = np.identity(4)\n",
    "print(I)\n"
   ]
  },
  {
   "cell_type": "code",
   "execution_count": null,
   "id": "e476470a",
   "metadata": {},
   "outputs": [],
   "source": [
    "# np.fromfunction()\n",
    "# Construct array from a function\n",
    "# How it Works\n",
    "\n",
    "# i = [[0, 0, 0],    j = [[0, 1, 2],\n",
    "#     [1, 1, 1],         [0, 1, 2],\n",
    "#     [2, 2, 2]]         [0, 1, 2]]\n",
    "\n",
    "# func(i, j) => i + j\n",
    "\n",
    "# which givees\n",
    "\n",
    "# [[0+0, 0+1, 0+2],\n",
    "# [1+0, 1+1, 1+2],\n",
    "# [2+0, 2+1, 2+2]]\n",
    "\n",
    "# Result \n",
    "# [[0, 1, 2],\n",
    "# [1, 2, 3],\n",
    "# [2, 3, 4]]\n",
    "\n",
    "\n",
    "\n",
    "def func(i, j):\n",
    "    return i + j\n",
    "\n",
    "arr = np.fromfunction(func, (3, 3), dtype=int)\n",
    "print(arr)\n"
   ]
  },
  {
   "cell_type": "code",
   "execution_count": null,
   "id": "9399f449",
   "metadata": {},
   "outputs": [],
   "source": [
    "# np.tile()\n",
    "# Repeat array\n",
    "\n",
    "tiled = np.tile([1, 2], (2, 3))\n",
    "print(tiled)\n"
   ]
  },
  {
   "cell_type": "markdown",
   "id": "56790b4c",
   "metadata": {},
   "source": [
    "## Arithmathic Computation"
   ]
  },
  {
   "cell_type": "code",
   "execution_count": null,
   "id": "02a78204",
   "metadata": {},
   "outputs": [],
   "source": [
    "import numpy as np\n",
    "\n",
    "arr = np.array([12,20,30])\n",
    "\n",
    "print(\"Orignal Arr :\",arr)\n",
    "print(\"Add :\", arr + 2)\n",
    "print(\"Multiply :\",arr*2)\n"
   ]
  },
  {
   "cell_type": "code",
   "execution_count": null,
   "id": "d319cd94",
   "metadata": {},
   "outputs": [],
   "source": [
    "# Aggregation Function\n",
    "\n",
    "print(\"Orignal Arr :\",arr)\n",
    "print(\"Sum of Arr : \",np.sum(arr))\n",
    "print(\"Mean of Arr : \",np.mean(arr))\n",
    "print(\"Min of Arr : \",np.min(arr))\n",
    "print(\"Max of Arr Elements: \",np.max(arr))\n",
    "print(\"Std of Arr Elements: \",np.std(arr))\n",
    "print(\"Variance of Arr Elements: \",np.var(arr))\n"
   ]
  },
  {
   "cell_type": "markdown",
   "id": "8296ed60",
   "metadata": {},
   "source": [
    "# Indexing & Slicing in NumPy\n",
    "\n",
    "NumPy provides powerful ways to access and manipulate elements, rows, columns, and subarrays using **indexing** and **slicing**.\n",
    "\n",
    "## 1️ Basic Indexing\n",
    "\n",
    "**Example**\n",
    "```python\n",
    "arr = np.array([10, 20, 30, 40])\n",
    "print(arr[0])  # 10\n",
    "print(arr[2])  # 30\n",
    "\n",
    "```\n",
    "## 2 Slicing\n",
    "**Syntax:** arr[ start: stop: step ]\n",
    "\n",
    "**Example**\n",
    "```python\n",
    "arr = np.array([10, 20, 30, 40, 50])\n",
    "\n",
    "print(arr[1:4])   # [20 30 40]\n",
    "print(arr[:3])    # [10 20 30]\n",
    "print(arr[2:])    # [30 40 50]\n",
    "print(arr[::2])   # [10 30 50]\n",
    "\n",
    "```\n",
    "\n",
    "---\n",
    "### Facing Indexing\n",
    "**Meaning:** We give NumPy a list of index positions, and it gives us those elements.\n",
    "\n",
    "**Example**\n",
    "```python\n",
    "\n",
    "arr = np.array([10, 20, 30, 40, 50])\n",
    "\n",
    "print(arr[[0, 2, 4]])  # [10 30 50]\n",
    "```\n",
    "\n",
    "\n",
    "---\n",
    "\n",
    "\n",
    "### Boolean Masking / Filtering\n",
    "**Meaning:** You create a condition. NumPy checks each element and gives you only the ones that match (like a filter).\n",
    "\n",
    "**Example**\n",
    "```python\n",
    "arr = np.array([10, 20, 30, 40, 50])\n",
    "\n",
    "print(arr > 25)         # [False False  True  True  True]\n",
    "print(arr[arr > 25])    # [30 40 50]\n",
    "\n",
    "```\n",
    "---"
   ]
  },
  {
   "cell_type": "markdown",
   "id": "b94f96eb",
   "metadata": {},
   "source": [
    "# Reshaping & Manipulation in NumPy\n",
    "\n",
    "NumPy allows us to change the **shape** or **structure** of arrays without changing the data. This is helpful when working with matrices, images, or ML inputs.\n",
    "\n",
    "---\n"
   ]
  },
  {
   "cell_type": "code",
   "execution_count": null,
   "id": "7786c74b",
   "metadata": {},
   "outputs": [],
   "source": [
    "# Convert 1D to N Dimension\n",
    "\n",
    "import numpy as np\n",
    "\n",
    "arr = np.array([10,20,30,40,50,60])\n",
    "\n",
    "reshaped_arr = arr.reshape(2,3)\n",
    "print(reshaped_arr)"
   ]
  },
  {
   "cell_type": "code",
   "execution_count": null,
   "id": "d8d291a5",
   "metadata": {},
   "outputs": [],
   "source": [
    "\"\"\"\n",
    "\n",
    "flatten(), Convert to 1D (It will return a copy)\n",
    "while,\n",
    "ravel(), Only return a view of it\n",
    "\n",
    "\"\"\"\n",
    "\n",
    "matrix = np.array([[1, 2], [3, 4]])\n",
    "flat = matrix.flatten()\n",
    "\n",
    "print(\"falttern, It return a copy of the org arr :\",flat)\n",
    "flat[0] = 10\n",
    "print(\"Orginal Arr :\\n\",matrix)\n",
    "print(\"Copy Flattern Arr :\",flat)\n",
    "\n",
    "print(\"Ravel, It will return a view of the arr :\",matrix.ravel())\n"
   ]
  },
  {
   "cell_type": "markdown",
   "id": "c439cd4c",
   "metadata": {},
   "source": [
    "# Array Modification\n"
   ]
  },
  {
   "cell_type": "code",
   "execution_count": null,
   "id": "20fa804e",
   "metadata": {},
   "outputs": [],
   "source": [
    "\"\"\"\n",
    "Insert() do not modify the original array.\n",
    "Instead,\n",
    "they return a new array, and the original one stays unchanged\n",
    "\n",
    "----------------------------------------------------------------\n",
    "\n",
    "np.insert(array, index, value, asix=None)\n",
    "array - orignal array\n",
    "index - where we want to put the value\n",
    "value - actual data or new value we want to put in it\n",
    "axis - 0 (row-wise), 1 (col-wise), None - refer to flatern\n",
    "\n",
    "\"\"\"\n",
    "\n",
    "# In 1D Array\n",
    "arr = np.array([10,20,30,40,50,60])\n",
    "print(arr)\n",
    "new_arr = np.insert(arr,2,100)\n",
    "print(\"Modified Arr :\",new_arr)\n",
    "\n"
   ]
  },
  {
   "cell_type": "code",
   "execution_count": null,
   "id": "aa316cc4",
   "metadata": {},
   "outputs": [],
   "source": [
    "# In 2D Array\n",
    "\n",
    "arr_2d = np.array([[1,2],[3,4]])\n",
    "print(\"Old Array  \\n\",arr_2d)\n",
    "\n",
    "new_arr_2d = np.insert(arr_2d, 2, [5,6], axis=1)\n",
    "print(\"\\n New Array \\n\",new_arr_2d)"
   ]
  },
  {
   "cell_type": "code",
   "execution_count": null,
   "id": "31376dcd",
   "metadata": {},
   "outputs": [],
   "source": [
    "\"\"\"\"\n",
    "append(), it insert the element just at the end of the array.\n",
    "append() do not modify the original array. \n",
    "Instead,\n",
    "they return a new array, and the original one stays unchanged\n",
    "\n",
    "\"\"\"\n",
    "\n",
    "arr = np.array([10,20,30])\n",
    "new_arr = np.append(arr, [40,50,60])\n",
    "print(\"Orignal Array :\",arr)\n",
    "print(\"New Array :\",new_arr)\n",
    "\n"
   ]
  },
  {
   "cell_type": "code",
   "execution_count": null,
   "id": "1713b5a2",
   "metadata": {},
   "outputs": [],
   "source": [
    "\"\"\"\n",
    "delete(), allow us to delete an element from the array\n",
    "And,\n",
    "It also return a new array\n",
    "\n",
    "\"\"\"\n",
    "\n",
    "# Deletion in 1D Array\n",
    "arr_1d = np.array([10, 20, 30, 40, 50])\n",
    "print(\"Original 1D Array:\")\n",
    "print(arr_1d)\n",
    "\n",
    "index = 2\n",
    "new_arr_1d = np.delete(arr_1d, index)\n",
    "\n",
    "print(f\"\\n1D Array After Deleting Index {index}\")\n",
    "print(new_arr_1d)\n",
    "\n",
    "\n",
    "\n",
    "# Deletion in 2D Array\n",
    "arr_2d = np.array([[1, 2, 3],\n",
    "                   [4, 5, 6],\n",
    "                   [7, 8, 9]])\n",
    "\n",
    "print(\"\\nOriginal 2D Array:\")\n",
    "print(arr_2d)\n",
    "\n",
    "new_arr_2d_row = np.delete(arr_2d, 1, axis=0)\n",
    "\n",
    "print(\"\\n2D Array After Deleting Row at Index 1\")\n",
    "print(new_arr_2d_row)\n",
    "\n",
    "\n",
    "new_arr_2d_col = np.delete(arr_2d, 1, axis=1)\n",
    "print(\"\\n2D Array After Deleting Column at Index 1\")\n",
    "print(new_arr_2d_col)\n"
   ]
  }
 ],
 "metadata": {
  "kernelspec": {
   "display_name": "Python 3",
   "language": "python",
   "name": "python3"
  },
  "language_info": {
   "codemirror_mode": {
    "name": "ipython",
    "version": 3
   },
   "file_extension": ".py",
   "mimetype": "text/x-python",
   "name": "python",
   "nbconvert_exporter": "python",
   "pygments_lexer": "ipython3",
   "version": "3.13.3"
  }
 },
 "nbformat": 4,
 "nbformat_minor": 5
}
